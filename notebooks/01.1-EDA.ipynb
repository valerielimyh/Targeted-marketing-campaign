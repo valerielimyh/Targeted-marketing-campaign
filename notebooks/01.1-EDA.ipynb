{
 "cells": [
  {
   "cell_type": "code",
   "execution_count": 2,
   "metadata": {},
   "outputs": [],
   "source": [
    "import pandas as pd\n",
    "import numpy as np\n",
    "from datetime import datetime\n",
    "import pickle\n",
    "from matplotlib import pyplot as plt\n",
    "import seaborn as sns\n",
    "# import plotly.plotly as py\n",
    "# import plotly.offline as pyoff\n",
    "import plotly.graph_objs as go\n",
    "\n",
    "import plotly.express as px\n",
    "import plotly.io as pio\n",
    "from sklearn.preprocessing import LabelEncoder, StandardScaler\n",
    "\n",
    "#Settings\n",
    "%matplotlib inline\n",
    "pd.options.display.max_columns = None\n",
    "pd.options.display.float_format = '{:.2f}'.format\n",
    "pd.set_option('display.max_colwidth', -1)\n",
    "pd.set_option('display.max_rows', 500)\n",
    "from IPython.core.interactiveshell import InteractiveShell  \n",
    "InteractiveShell.ast_node_interactivity = \"all\""
   ]
  },
  {
   "cell_type": "code",
   "execution_count": 3,
   "metadata": {},
   "outputs": [],
   "source": [
    "# with open('../data/interim/df.pkl', 'rb') as read_file:\n",
    "#     df = pickle.load(read_file)\n",
    "with open('../data/processed/master_df.pkl', 'rb') as read_file:\n",
    "    master_df = pickle.load(read_file)   "
   ]
  },
  {
   "cell_type": "code",
   "execution_count": 4,
   "metadata": {},
   "outputs": [
    {
     "data": {
      "text/html": [
       "<div>\n",
       "<style scoped>\n",
       "    .dataframe tbody tr th:only-of-type {\n",
       "        vertical-align: middle;\n",
       "    }\n",
       "\n",
       "    .dataframe tbody tr th {\n",
       "        vertical-align: top;\n",
       "    }\n",
       "\n",
       "    .dataframe thead th {\n",
       "        text-align: right;\n",
       "    }\n",
       "</style>\n",
       "<table border=\"1\" class=\"dataframe\">\n",
       "  <thead>\n",
       "    <tr style=\"text-align: right;\">\n",
       "      <th></th>\n",
       "      <th>age</th>\n",
       "      <th>age_group</th>\n",
       "      <th>age_group_[10, 30)</th>\n",
       "      <th>age_group_[30, 40)</th>\n",
       "      <th>age_group_[40, 50)</th>\n",
       "      <th>age_group_[50, 60)</th>\n",
       "      <th>age_group_[60, 96)</th>\n",
       "      <th>balance</th>\n",
       "      <th>balance_category</th>\n",
       "      <th>balance_category_[-8019, 0)</th>\n",
       "      <th>balance_category_[0, 500)</th>\n",
       "      <th>balance_category_[3000, 102128)</th>\n",
       "      <th>balance_category_[500, 3000)</th>\n",
       "      <th>campaign</th>\n",
       "      <th>cluster_predicted</th>\n",
       "      <th>contact</th>\n",
       "      <th>contact_label_encoded</th>\n",
       "      <th>contact_label_encoded_0</th>\n",
       "      <th>contact_label_encoded_1</th>\n",
       "      <th>contact_label_encoded_2</th>\n",
       "      <th>current_engagement_category</th>\n",
       "      <th>current_engagement_category_[1, 6)</th>\n",
       "      <th>current_engagement_category_[10, 64)</th>\n",
       "      <th>current_engagement_category_[6, 10)</th>\n",
       "      <th>day</th>\n",
       "      <th>default</th>\n",
       "      <th>default_label_encoded</th>\n",
       "      <th>default_label_encoded_0</th>\n",
       "      <th>default_label_encoded_1</th>\n",
       "      <th>duration</th>\n",
       "      <th>duration_category</th>\n",
       "      <th>duration_category_[0, 60)</th>\n",
       "      <th>duration_category_[180, 300)</th>\n",
       "      <th>duration_category_[300, 4919)</th>\n",
       "      <th>duration_category_[60, 180)</th>\n",
       "      <th>education</th>\n",
       "      <th>education_label_encoded</th>\n",
       "      <th>education_label_encoded_0</th>\n",
       "      <th>education_label_encoded_1</th>\n",
       "      <th>education_label_encoded_2</th>\n",
       "      <th>education_label_encoded_3</th>\n",
       "      <th>housing</th>\n",
       "      <th>housing_label_encoded</th>\n",
       "      <th>housing_label_encoded_0</th>\n",
       "      <th>housing_label_encoded_1</th>\n",
       "      <th>ID</th>\n",
       "      <th>is_second_half_of_month</th>\n",
       "      <th>is_second_half_of_month_0</th>\n",
       "      <th>is_second_half_of_month_1</th>\n",
       "      <th>job</th>\n",
       "      <th>job_label_encoded</th>\n",
       "      <th>job_label_encoded_0</th>\n",
       "      <th>job_label_encoded_1</th>\n",
       "      <th>job_label_encoded_10</th>\n",
       "      <th>job_label_encoded_11</th>\n",
       "      <th>job_label_encoded_2</th>\n",
       "      <th>job_label_encoded_3</th>\n",
       "      <th>job_label_encoded_4</th>\n",
       "      <th>job_label_encoded_5</th>\n",
       "      <th>job_label_encoded_6</th>\n",
       "      <th>job_label_encoded_7</th>\n",
       "      <th>job_label_encoded_8</th>\n",
       "      <th>job_label_encoded_9</th>\n",
       "      <th>level_0</th>\n",
       "      <th>loan</th>\n",
       "      <th>loan_label_encoded</th>\n",
       "      <th>loan_label_encoded_0</th>\n",
       "      <th>loan_label_encoded_1</th>\n",
       "      <th>marital</th>\n",
       "      <th>marital_label_encoded</th>\n",
       "      <th>marital_label_encoded_0</th>\n",
       "      <th>marital_label_encoded_1</th>\n",
       "      <th>marital_label_encoded_2</th>\n",
       "      <th>month</th>\n",
       "      <th>month_label_encoded</th>\n",
       "      <th>month_label_encoded_1</th>\n",
       "      <th>month_label_encoded_10</th>\n",
       "      <th>month_label_encoded_11</th>\n",
       "      <th>month_label_encoded_12</th>\n",
       "      <th>month_label_encoded_2</th>\n",
       "      <th>month_label_encoded_3</th>\n",
       "      <th>month_label_encoded_4</th>\n",
       "      <th>month_label_encoded_5</th>\n",
       "      <th>month_label_encoded_6</th>\n",
       "      <th>month_label_encoded_7</th>\n",
       "      <th>month_label_encoded_8</th>\n",
       "      <th>month_label_encoded_9</th>\n",
       "      <th>new_customers</th>\n",
       "      <th>new_customers_0</th>\n",
       "      <th>new_customers_1</th>\n",
       "      <th>pdays</th>\n",
       "      <th>pdays_category</th>\n",
       "      <th>pdays_category_[-1, 0)</th>\n",
       "      <th>pdays_category_[0, 180)</th>\n",
       "      <th>pdays_category_[180, 872)</th>\n",
       "      <th>poutcome</th>\n",
       "      <th>poutcome_label_encoded</th>\n",
       "      <th>poutcome_label_encoded_0</th>\n",
       "      <th>poutcome_label_encoded_1</th>\n",
       "      <th>poutcome_label_encoded_2</th>\n",
       "      <th>poutcome_label_encoded_3</th>\n",
       "      <th>prev_engagement_category</th>\n",
       "      <th>prev_engagement_category_[0, 1)</th>\n",
       "      <th>prev_engagement_category_[1, 6)</th>\n",
       "      <th>prev_engagement_category_[10, 276)</th>\n",
       "      <th>prev_engagement_category_[6, 10)</th>\n",
       "      <th>previous</th>\n",
       "      <th>total_duration</th>\n",
       "      <th>total_duration_category</th>\n",
       "      <th>total_duration_category_[0, 180)</th>\n",
       "      <th>total_duration_category_[180, 600)</th>\n",
       "      <th>total_duration_category_[600, 60171)</th>\n",
       "      <th>y</th>\n",
       "      <th>y_label_encoded</th>\n",
       "    </tr>\n",
       "  </thead>\n",
       "  <tbody>\n",
       "    <tr>\n",
       "      <th>0</th>\n",
       "      <td>39</td>\n",
       "      <td>[30, 40)</td>\n",
       "      <td>0</td>\n",
       "      <td>1</td>\n",
       "      <td>0</td>\n",
       "      <td>0</td>\n",
       "      <td>0</td>\n",
       "      <td>816</td>\n",
       "      <td>[500, 3000)</td>\n",
       "      <td>0</td>\n",
       "      <td>0</td>\n",
       "      <td>0</td>\n",
       "      <td>1</td>\n",
       "      <td>3</td>\n",
       "      <td>2</td>\n",
       "      <td>cellular</td>\n",
       "      <td>0</td>\n",
       "      <td>1</td>\n",
       "      <td>0</td>\n",
       "      <td>0</td>\n",
       "      <td>[1, 6)</td>\n",
       "      <td>1</td>\n",
       "      <td>0</td>\n",
       "      <td>0</td>\n",
       "      <td>27</td>\n",
       "      <td>no</td>\n",
       "      <td>0</td>\n",
       "      <td>1</td>\n",
       "      <td>0</td>\n",
       "      <td>37</td>\n",
       "      <td>[0, 60)</td>\n",
       "      <td>1</td>\n",
       "      <td>0</td>\n",
       "      <td>0</td>\n",
       "      <td>0</td>\n",
       "      <td>tertiary</td>\n",
       "      <td>2</td>\n",
       "      <td>0</td>\n",
       "      <td>0</td>\n",
       "      <td>1</td>\n",
       "      <td>0</td>\n",
       "      <td>yes</td>\n",
       "      <td>1</td>\n",
       "      <td>0</td>\n",
       "      <td>1</td>\n",
       "      <td>23354</td>\n",
       "      <td>1</td>\n",
       "      <td>0</td>\n",
       "      <td>1</td>\n",
       "      <td>management</td>\n",
       "      <td>4</td>\n",
       "      <td>0</td>\n",
       "      <td>0</td>\n",
       "      <td>0</td>\n",
       "      <td>0</td>\n",
       "      <td>0</td>\n",
       "      <td>0</td>\n",
       "      <td>1</td>\n",
       "      <td>0</td>\n",
       "      <td>0</td>\n",
       "      <td>0</td>\n",
       "      <td>0</td>\n",
       "      <td>0</td>\n",
       "      <td>0.00</td>\n",
       "      <td>no</td>\n",
       "      <td>0</td>\n",
       "      <td>1</td>\n",
       "      <td>0</td>\n",
       "      <td>single</td>\n",
       "      <td>2</td>\n",
       "      <td>0</td>\n",
       "      <td>0</td>\n",
       "      <td>1</td>\n",
       "      <td>aug</td>\n",
       "      <td>8</td>\n",
       "      <td>0</td>\n",
       "      <td>0</td>\n",
       "      <td>0</td>\n",
       "      <td>0</td>\n",
       "      <td>0</td>\n",
       "      <td>0</td>\n",
       "      <td>0</td>\n",
       "      <td>0</td>\n",
       "      <td>0</td>\n",
       "      <td>0</td>\n",
       "      <td>1</td>\n",
       "      <td>0</td>\n",
       "      <td>1</td>\n",
       "      <td>0</td>\n",
       "      <td>1</td>\n",
       "      <td>-1</td>\n",
       "      <td>[-1, 0)</td>\n",
       "      <td>1</td>\n",
       "      <td>0</td>\n",
       "      <td>0</td>\n",
       "      <td>unknown</td>\n",
       "      <td>3</td>\n",
       "      <td>0</td>\n",
       "      <td>0</td>\n",
       "      <td>0</td>\n",
       "      <td>1</td>\n",
       "      <td>[0, 1)</td>\n",
       "      <td>1</td>\n",
       "      <td>0</td>\n",
       "      <td>0</td>\n",
       "      <td>0</td>\n",
       "      <td>0</td>\n",
       "      <td>111</td>\n",
       "      <td>[0, 180)</td>\n",
       "      <td>1</td>\n",
       "      <td>0</td>\n",
       "      <td>0</td>\n",
       "      <td>no</td>\n",
       "      <td>0</td>\n",
       "    </tr>\n",
       "  </tbody>\n",
       "</table>\n",
       "</div>"
      ],
      "text/plain": [
       "   age age_group  age_group_[10, 30)  age_group_[30, 40)  age_group_[40, 50)  \\\n",
       "0  39   [30, 40)  0                   1                   0                    \n",
       "\n",
       "   age_group_[50, 60)  age_group_[60, 96)  balance balance_category  \\\n",
       "0  0                   0                   816      [500, 3000)       \n",
       "\n",
       "   balance_category_[-8019, 0)  balance_category_[0, 500)  \\\n",
       "0  0                            0                           \n",
       "\n",
       "   balance_category_[3000, 102128)  balance_category_[500, 3000)  campaign  \\\n",
       "0  0                                1                             3          \n",
       "\n",
       "   cluster_predicted   contact  contact_label_encoded  \\\n",
       "0  2                  cellular  0                       \n",
       "\n",
       "   contact_label_encoded_0  contact_label_encoded_1  contact_label_encoded_2  \\\n",
       "0  1                        0                        0                         \n",
       "\n",
       "  current_engagement_category  current_engagement_category_[1, 6)  \\\n",
       "0  [1, 6)                      1                                    \n",
       "\n",
       "   current_engagement_category_[10, 64)  current_engagement_category_[6, 10)  \\\n",
       "0  0                                     0                                     \n",
       "\n",
       "   day default  default_label_encoded  default_label_encoded_0  \\\n",
       "0  27   no      0                      1                         \n",
       "\n",
       "   default_label_encoded_1  duration duration_category  \\\n",
       "0  0                        37        [0, 60)            \n",
       "\n",
       "   duration_category_[0, 60)  duration_category_[180, 300)  \\\n",
       "0  1                          0                              \n",
       "\n",
       "   duration_category_[300, 4919)  duration_category_[60, 180) education  \\\n",
       "0  0                              0                            tertiary   \n",
       "\n",
       "   education_label_encoded  education_label_encoded_0  \\\n",
       "0  2                        0                           \n",
       "\n",
       "   education_label_encoded_1  education_label_encoded_2  \\\n",
       "0  0                          1                           \n",
       "\n",
       "   education_label_encoded_3 housing  housing_label_encoded  \\\n",
       "0  0                          yes     1                       \n",
       "\n",
       "   housing_label_encoded_0  housing_label_encoded_1     ID  \\\n",
       "0  0                        1                        23354   \n",
       "\n",
       "   is_second_half_of_month  is_second_half_of_month_0  \\\n",
       "0  1                        0                           \n",
       "\n",
       "   is_second_half_of_month_1         job  job_label_encoded  \\\n",
       "0  1                          management  4                   \n",
       "\n",
       "   job_label_encoded_0  job_label_encoded_1  job_label_encoded_10  \\\n",
       "0  0                    0                    0                      \n",
       "\n",
       "   job_label_encoded_11  job_label_encoded_2  job_label_encoded_3  \\\n",
       "0  0                     0                    0                     \n",
       "\n",
       "   job_label_encoded_4  job_label_encoded_5  job_label_encoded_6  \\\n",
       "0  1                    0                    0                     \n",
       "\n",
       "   job_label_encoded_7  job_label_encoded_8  job_label_encoded_9  level_0  \\\n",
       "0  0                    0                    0                   0.00       \n",
       "\n",
       "  loan  loan_label_encoded  loan_label_encoded_0  loan_label_encoded_1  \\\n",
       "0  no   0                   1                     0                      \n",
       "\n",
       "  marital  marital_label_encoded  marital_label_encoded_0  \\\n",
       "0  single  2                      0                         \n",
       "\n",
       "   marital_label_encoded_1  marital_label_encoded_2 month  \\\n",
       "0  0                        1                        aug    \n",
       "\n",
       "   month_label_encoded  month_label_encoded_1  month_label_encoded_10  \\\n",
       "0  8                    0                      0                        \n",
       "\n",
       "   month_label_encoded_11  month_label_encoded_12  month_label_encoded_2  \\\n",
       "0  0                       0                       0                       \n",
       "\n",
       "   month_label_encoded_3  month_label_encoded_4  month_label_encoded_5  \\\n",
       "0  0                      0                      0                       \n",
       "\n",
       "   month_label_encoded_6  month_label_encoded_7  month_label_encoded_8  \\\n",
       "0  0                      0                      1                       \n",
       "\n",
       "   month_label_encoded_9  new_customers  new_customers_0  new_customers_1  \\\n",
       "0  0                      1              0                1                 \n",
       "\n",
       "   pdays pdays_category  pdays_category_[-1, 0)  pdays_category_[0, 180)  \\\n",
       "0 -1      [-1, 0)        1                       0                         \n",
       "\n",
       "   pdays_category_[180, 872) poutcome  poutcome_label_encoded  \\\n",
       "0  0                          unknown  3                        \n",
       "\n",
       "   poutcome_label_encoded_0  poutcome_label_encoded_1  \\\n",
       "0  0                         0                          \n",
       "\n",
       "   poutcome_label_encoded_2  poutcome_label_encoded_3  \\\n",
       "0  0                         1                          \n",
       "\n",
       "  prev_engagement_category  prev_engagement_category_[0, 1)  \\\n",
       "0  [0, 1)                   1                                 \n",
       "\n",
       "   prev_engagement_category_[1, 6)  prev_engagement_category_[10, 276)  \\\n",
       "0  0                                0                                    \n",
       "\n",
       "   prev_engagement_category_[6, 10)  previous  total_duration  \\\n",
       "0  0                                 0         111              \n",
       "\n",
       "  total_duration_category  total_duration_category_[0, 180)  \\\n",
       "0  [0, 180)                1                                  \n",
       "\n",
       "   total_duration_category_[180, 600)  total_duration_category_[600, 60171)  \\\n",
       "0  0                                   0                                      \n",
       "\n",
       "    y  y_label_encoded  \n",
       "0  no  0                "
      ]
     },
     "execution_count": 4,
     "metadata": {},
     "output_type": "execute_result"
    }
   ],
   "source": [
    "master_df_1 = master_df.copy()\n",
    "# df_1 = df.copy()\n",
    "master_df_1.head(1)"
   ]
  },
  {
   "cell_type": "markdown",
   "metadata": {},
   "source": [
    "Check if there is variation across bins for each categorical variables"
   ]
  },
  {
   "cell_type": "code",
   "execution_count": 5,
   "metadata": {
    "scrolled": true
   },
   "outputs": [
    {
     "data": {
      "text/plain": [
       "[30, 40)   0.40\n",
       "[40, 50)   0.26\n",
       "[50, 60)   0.19\n",
       "[10, 30)   0.12\n",
       "[60, 96)   0.04\n",
       "Name: age_group, dtype: float64"
      ]
     },
     "execution_count": 5,
     "metadata": {},
     "output_type": "execute_result"
    },
    {
     "data": {
      "text/plain": [
       "age_group\n",
       "[10, 30)   0.18\n",
       "[30, 40)   0.11\n",
       "[40, 50)   0.09\n",
       "[50, 60)   0.09\n",
       "[60, 96)   0.34\n",
       "Name: y_label_encoded, dtype: float64"
      ]
     },
     "execution_count": 5,
     "metadata": {},
     "output_type": "execute_result"
    }
   ],
   "source": [
    "master_df_1['age_group'].value_counts()/len(master_df_1)\n",
    "age_grp_by_target = master_df_1.groupby('age_group')['y_label_encoded'].mean()\n",
    "age_grp_by_target"
   ]
  },
  {
   "cell_type": "code",
   "execution_count": 6,
   "metadata": {},
   "outputs": [
    {
     "data": {
      "text/plain": [
       "[0, 500)         0.44\n",
       "[500, 3000)      0.35\n",
       "[3000, 102128)   0.12\n",
       "[-8019, 0)       0.08\n",
       "Name: balance_category, dtype: float64"
      ]
     },
     "execution_count": 6,
     "metadata": {},
     "output_type": "execute_result"
    },
    {
     "data": {
      "text/plain": [
       "balance_category\n",
       "[-8019, 0)       0.06\n",
       "[0, 500)         0.10\n",
       "[500, 3000)      0.14\n",
       "[3000, 102128)   0.16\n",
       "Name: y_label_encoded, dtype: float64"
      ]
     },
     "execution_count": 6,
     "metadata": {},
     "output_type": "execute_result"
    }
   ],
   "source": [
    "master_df_1['balance_category'].value_counts()/len(master_df_1)\n",
    "balance_category_by_target = master_df_1.groupby('balance_category')['y_label_encoded'].mean()\n",
    "balance_category_by_target"
   ]
  },
  {
   "cell_type": "code",
   "execution_count": 4,
   "metadata": {},
   "outputs": [
    {
     "data": {
      "text/plain": [
       "[120, 300)    0.42\n",
       "[60, 120)     0.20\n",
       "[300, 600)    0.19\n",
       "[0, 60)       0.10\n",
       "[600, 900)    0.05\n",
       "[900, 4919)   0.03\n",
       "Name: duration_bins, dtype: float64"
      ]
     },
     "execution_count": 4,
     "metadata": {},
     "output_type": "execute_result"
    },
    {
     "data": {
      "text/plain": [
       "duration_bins\n",
       "[0, 60)       0.00\n",
       "[60, 120)     0.02\n",
       "[120, 300)    0.09\n",
       "[300, 600)    0.19\n",
       "[600, 900)    0.42\n",
       "[900, 4919)   0.59\n",
       "Name: y_label_encoded, dtype: float64"
      ]
     },
     "execution_count": 4,
     "metadata": {},
     "output_type": "execute_result"
    }
   ],
   "source": [
    "duration_bins = [0,60,120,300,600,900,4919]\n",
    "#1 - <1 min\n",
    "#2 - 1-2 min\n",
    "#3 - 2-5 min\n",
    "#4 - 5-10 min\n",
    "#5 - 10-15 min\n",
    "#6 - >15 min\n",
    "\n",
    "master_df_1['duration_bins'] = pd.cut(master_df_1['duration'], duration_bins, include_lowest = True, right = False)\n",
    "master_df_1['duration_bins'].value_counts()/len(master_df_1)\n",
    "master_df_1.groupby('duration_bins')['y_label_encoded'].mean()\n"
   ]
  },
  {
   "cell_type": "code",
   "execution_count": 5,
   "metadata": {
    "scrolled": true
   },
   "outputs": [
    {
     "data": {
      "text/plain": [
       "[2, 6)     0.52\n",
       "[1, 2)     0.39\n",
       "[6, 11)    0.07\n",
       "[11, 64)   0.03\n",
       "Name: current_engagement_bins, dtype: float64"
      ]
     },
     "execution_count": 5,
     "metadata": {},
     "output_type": "execute_result"
    },
    {
     "data": {
      "text/plain": [
       "current_engagement_bins\n",
       "[1, 2)     0.15\n",
       "[2, 6)     0.11\n",
       "[6, 11)    0.07\n",
       "[11, 64)   0.04\n",
       "Name: y_label_encoded, dtype: float64"
      ]
     },
     "execution_count": 5,
     "metadata": {},
     "output_type": "execute_result"
    }
   ],
   "source": [
    "current_engagement_bins = [1,2,6,11,64]\n",
    "master_df_1['current_engagement_bins'] = pd.cut(master_df_1['campaign'], current_engagement_bins, include_lowest = True, right = False)\n",
    "master_df_1['current_engagement_bins'].value_counts()/len(master_df_1)\n",
    "current_engagement_deciles_by_target = master_df_1.groupby('current_engagement_bins')['y_label_encoded'].mean()\n",
    "current_engagement_deciles_by_target"
   ]
  },
  {
   "cell_type": "code",
   "execution_count": 4,
   "metadata": {
    "scrolled": true
   },
   "outputs": [
    {
     "data": {
      "text/plain": [
       "1     17544\n",
       "2     12505\n",
       "3     5521 \n",
       "4     3522 \n",
       "5     1764 \n",
       "6     1291 \n",
       "7     735  \n",
       "8     540  \n",
       "9     327  \n",
       "10    266  \n",
       "11    201  \n",
       "12    155  \n",
       "13    133  \n",
       "14    93   \n",
       "15    84   \n",
       "16    79   \n",
       "17    69   \n",
       "18    51   \n",
       "19    44   \n",
       "20    43   \n",
       "21    35   \n",
       "22    23   \n",
       "23    22   \n",
       "25    22   \n",
       "24    20   \n",
       "28    16   \n",
       "29    16   \n",
       "26    13   \n",
       "31    12   \n",
       "27    10   \n",
       "32    9    \n",
       "30    8    \n",
       "33    6    \n",
       "34    5    \n",
       "36    4    \n",
       "35    4    \n",
       "43    3    \n",
       "38    3    \n",
       "41    2    \n",
       "50    2    \n",
       "37    2    \n",
       "51    1    \n",
       "55    1    \n",
       "46    1    \n",
       "58    1    \n",
       "44    1    \n",
       "39    1    \n",
       "63    1    \n",
       "Name: campaign, dtype: int64"
      ]
     },
     "execution_count": 4,
     "metadata": {},
     "output_type": "execute_result"
    }
   ],
   "source": [
    "master_df_1['campaign'].value_counts()"
   ]
  },
  {
   "cell_type": "code",
   "execution_count": 13,
   "metadata": {},
   "outputs": [
    {
     "data": {
      "image/png": "[encoded data removed]",
      "text/plain": [
       "<Figure size 1152x1440 with 9 Axes>"
      ]
     },
     "metadata": {
      "needs_background": "light"
     },
     "output_type": "display_data"
    }
   ],
   "source": [
    "num_features = master_df_1[['age', 'balance', 'campaign', 'duration', 'pdays','previous', 'day', 'month_label_encoded' ]]\n",
    "num_features.hist(figsize=(16, 20), bins=50, xlabelsize=8, ylabelsize=8);"
   ]
  },
  {
   "cell_type": "code",
   "execution_count": 9,
   "metadata": {},
   "outputs": [
    {
     "data": {
      "text/plain": [
       "[-1, 0)      0.82\n",
       "[180, 872)   0.11\n",
       "[0, 180)     0.07\n",
       "Name: pdays_category, dtype: float64"
      ]
     },
     "execution_count": 9,
     "metadata": {},
     "output_type": "execute_result"
    },
    {
     "data": {
      "text/plain": [
       "pdays_category\n",
       "[-1, 0)      0.09\n",
       "[0, 180)     0.29\n",
       "[180, 872)   0.19\n",
       "Name: y_label_encoded, dtype: float64"
      ]
     },
     "execution_count": 9,
     "metadata": {},
     "output_type": "execute_result"
    }
   ],
   "source": [
    "master_df_1['pdays_category'].value_counts()/len(master_df_1)\n",
    "master_df_1.groupby('pdays_category')['y_label_encoded'].mean()"
   ]
  },
  {
   "cell_type": "code",
   "execution_count": 6,
   "metadata": {},
   "outputs": [],
   "source": [
    "master_df_1.rename(columns={'pdays_category' : 'pdays_half_yearly_bins'}, inplace=True)\n"
   ]
  },
  {
   "cell_type": "code",
   "execution_count": 49,
   "metadata": {},
   "outputs": [
    {
     "data": {
      "text/plain": [
       "[-1, 0)      0.82\n",
       "[90, 180)    0.06\n",
       "[270, 365)   0.05\n",
       "[180, 270)   0.05\n",
       "[365, 872)   0.02\n",
       "[0, 90)      0.01\n",
       "Name: pdays_bins, dtype: float64"
      ]
     },
     "execution_count": 49,
     "metadata": {},
     "output_type": "execute_result"
    },
    {
     "data": {
      "text/plain": [
       "pdays_bins\n",
       "[-1, 0)      0.09\n",
       "[0, 90)      0.33\n",
       "[90, 180)    0.28\n",
       "[180, 270)   0.27\n",
       "[270, 365)   0.10\n",
       "[365, 872)   0.28\n",
       "Name: y_label_encoded, dtype: float64"
      ]
     },
     "execution_count": 49,
     "metadata": {},
     "output_type": "execute_result"
    }
   ],
   "source": [
    "# pdays_bins = [-1,0,90,180,270,365,872]\n",
    "# df_1['pdays_quarterly_bins'] = pd.cut(df_1['pdays'], pdays_bins, include_lowest = True, right = False)\n",
    "# df_1['pdays_quarterly_bins'].value_counts()/len(df_1)\n",
    "# df_1.groupby('pdays_quarterly_bins')['y_label_encoded'].mean()"
   ]
  },
  {
   "cell_type": "code",
   "execution_count": 11,
   "metadata": {},
   "outputs": [
    {
     "data": {
      "text/plain": [
       "[0, 1)      0.82\n",
       "[1, 6)      0.16\n",
       "[6, 10)     0.02\n",
       "[10, 276)   0.01\n",
       "Name: prev_engagement_category, dtype: float64"
      ]
     },
     "execution_count": 11,
     "metadata": {},
     "output_type": "execute_result"
    },
    {
     "data": {
      "text/plain": [
       "prev_engagement_category\n",
       "[0, 1)      0.09\n",
       "[1, 6)      0.23\n",
       "[6, 10)     0.28\n",
       "[10, 276)   0.22\n",
       "Name: y_label_encoded, dtype: float64"
      ]
     },
     "execution_count": 11,
     "metadata": {},
     "output_type": "execute_result"
    }
   ],
   "source": [
    "master_df_1['prev_engagement_category'].value_counts()/len(master_df_1)\n",
    "master_df_1.groupby('prev_engagement_category')['y_label_encoded'].mean()"
   ]
  },
  {
   "cell_type": "code",
   "execution_count": 13,
   "metadata": {},
   "outputs": [
    {
     "data": {
      "text/plain": [
       "['age',\n",
       " 'age_group',\n",
       " 'age_group_[10, 30)',\n",
       " 'age_group_[30, 40)',\n",
       " 'age_group_[40, 50)',\n",
       " 'age_group_[50, 60)',\n",
       " 'age_group_[60, 96)',\n",
       " 'balance',\n",
       " 'balance_category',\n",
       " 'balance_category_[-8019, 0)',\n",
       " 'balance_category_[0, 500)',\n",
       " 'balance_category_[3000, 102128)',\n",
       " 'balance_category_[500, 3000)',\n",
       " 'campaign',\n",
       " 'cluster_predicted',\n",
       " 'contact',\n",
       " 'contact_label_encoded',\n",
       " 'contact_label_encoded_0',\n",
       " 'contact_label_encoded_1',\n",
       " 'contact_label_encoded_2',\n",
       " 'current_engagement_category',\n",
       " 'current_engagement_category_[1, 6)',\n",
       " 'current_engagement_category_[10, 64)',\n",
       " 'current_engagement_category_[6, 10)',\n",
       " 'day',\n",
       " 'default',\n",
       " 'default_label_encoded',\n",
       " 'default_label_encoded_0',\n",
       " 'default_label_encoded_1',\n",
       " 'duration',\n",
       " 'duration_category',\n",
       " 'duration_category_[0, 60)',\n",
       " 'duration_category_[180, 300)',\n",
       " 'duration_category_[300, 4919)',\n",
       " 'duration_category_[60, 180)',\n",
       " 'education',\n",
       " 'education_label_encoded',\n",
       " 'education_label_encoded_0',\n",
       " 'education_label_encoded_1',\n",
       " 'education_label_encoded_2',\n",
       " 'education_label_encoded_3',\n",
       " 'housing',\n",
       " 'housing_label_encoded',\n",
       " 'housing_label_encoded_0',\n",
       " 'housing_label_encoded_1',\n",
       " 'ID',\n",
       " 'is_second_half_of_month',\n",
       " 'is_second_half_of_month_0',\n",
       " 'is_second_half_of_month_1',\n",
       " 'job',\n",
       " 'job_label_encoded',\n",
       " 'job_label_encoded_0',\n",
       " 'job_label_encoded_1',\n",
       " 'job_label_encoded_10',\n",
       " 'job_label_encoded_11',\n",
       " 'job_label_encoded_2',\n",
       " 'job_label_encoded_3',\n",
       " 'job_label_encoded_4',\n",
       " 'job_label_encoded_5',\n",
       " 'job_label_encoded_6',\n",
       " 'job_label_encoded_7',\n",
       " 'job_label_encoded_8',\n",
       " 'job_label_encoded_9',\n",
       " 'level_0',\n",
       " 'loan',\n",
       " 'loan_label_encoded',\n",
       " 'loan_label_encoded_0',\n",
       " 'loan_label_encoded_1',\n",
       " 'marital',\n",
       " 'marital_label_encoded',\n",
       " 'marital_label_encoded_0',\n",
       " 'marital_label_encoded_1',\n",
       " 'marital_label_encoded_2',\n",
       " 'month',\n",
       " 'month_label_encoded',\n",
       " 'month_label_encoded_1',\n",
       " 'month_label_encoded_10',\n",
       " 'month_label_encoded_11',\n",
       " 'month_label_encoded_12',\n",
       " 'month_label_encoded_2',\n",
       " 'month_label_encoded_3',\n",
       " 'month_label_encoded_4',\n",
       " 'month_label_encoded_5',\n",
       " 'month_label_encoded_6',\n",
       " 'month_label_encoded_7',\n",
       " 'month_label_encoded_8',\n",
       " 'month_label_encoded_9',\n",
       " 'new_customers',\n",
       " 'new_customers_0',\n",
       " 'new_customers_1',\n",
       " 'pdays',\n",
       " 'pdays_half_yearly_bins',\n",
       " 'pdays_category_[-1, 0)',\n",
       " 'pdays_category_[0, 180)',\n",
       " 'pdays_category_[180, 872)',\n",
       " 'poutcome',\n",
       " 'poutcome_label_encoded',\n",
       " 'poutcome_label_encoded_0',\n",
       " 'poutcome_label_encoded_1',\n",
       " 'poutcome_label_encoded_2',\n",
       " 'poutcome_label_encoded_3',\n",
       " 'prev_engagement_category',\n",
       " 'prev_engagement_category_[0, 1)',\n",
       " 'prev_engagement_category_[1, 6)',\n",
       " 'prev_engagement_category_[10, 276)',\n",
       " 'prev_engagement_category_[6, 10)',\n",
       " 'previous',\n",
       " 'total_duration',\n",
       " 'total_duration_category',\n",
       " 'total_duration_category_[0, 180)',\n",
       " 'total_duration_category_[180, 600)',\n",
       " 'total_duration_category_[600, 60171)',\n",
       " 'y',\n",
       " 'y_label_encoded',\n",
       " 'duration_bins',\n",
       " 'current_engagement_bins']"
      ]
     },
     "execution_count": 13,
     "metadata": {},
     "output_type": "execute_result"
    }
   ],
   "source": [
    "master_df_1.columns.tolist()"
   ]
  },
  {
   "cell_type": "code",
   "execution_count": 7,
   "metadata": {},
   "outputs": [
    {
     "data": {
      "text/plain": [
       "21"
      ]
     },
     "execution_count": 7,
     "metadata": {},
     "output_type": "execute_result"
    }
   ],
   "source": [
    "model_2_variables = ['ID','cluster_predicted', 'age_group', 'balance_category', 'contact_label_encoded',\n",
    "                     'current_engagement_bins', 'default_label_encoded', 'duration_bins',\n",
    "                     'education_label_encoded', 'housing_label_encoded', 'job_label_encoded', \n",
    "                    'marital_label_encoded',   'loan_label_encoded', 'month_label_encoded',\n",
    "                   'poutcome_label_encoded', 'pdays_half_yearly_bins', 'prev_engagement_category', 'is_second_half_of_month', \n",
    "                'day', 'new_customers', 'y_label_encoded']\n",
    "df_for_model_2 = master_df_1[model_2_variables]\n",
    "len(model_2_variables)\n"
   ]
  },
  {
   "cell_type": "code",
   "execution_count": 8,
   "metadata": {},
   "outputs": [
    {
     "data": {
      "text/plain": [
       "45211"
      ]
     },
     "execution_count": 8,
     "metadata": {},
     "output_type": "execute_result"
    },
    {
     "data": {
      "text/html": [
       "<div>\n",
       "<style scoped>\n",
       "    .dataframe tbody tr th:only-of-type {\n",
       "        vertical-align: middle;\n",
       "    }\n",
       "\n",
       "    .dataframe tbody tr th {\n",
       "        vertical-align: top;\n",
       "    }\n",
       "\n",
       "    .dataframe thead th {\n",
       "        text-align: right;\n",
       "    }\n",
       "</style>\n",
       "<table border=\"1\" class=\"dataframe\">\n",
       "  <thead>\n",
       "    <tr style=\"text-align: right;\">\n",
       "      <th></th>\n",
       "      <th>ID</th>\n",
       "      <th>cluster_predicted</th>\n",
       "      <th>age_group</th>\n",
       "      <th>balance_category</th>\n",
       "      <th>contact_label_encoded</th>\n",
       "      <th>current_engagement_bins</th>\n",
       "      <th>default_label_encoded</th>\n",
       "      <th>duration_bins</th>\n",
       "      <th>education_label_encoded</th>\n",
       "      <th>housing_label_encoded</th>\n",
       "      <th>job_label_encoded</th>\n",
       "      <th>marital_label_encoded</th>\n",
       "      <th>loan_label_encoded</th>\n",
       "      <th>month_label_encoded</th>\n",
       "      <th>poutcome_label_encoded</th>\n",
       "      <th>pdays_half_yearly_bins</th>\n",
       "      <th>prev_engagement_category</th>\n",
       "      <th>is_second_half_of_month</th>\n",
       "      <th>day</th>\n",
       "      <th>new_customers</th>\n",
       "      <th>y_label_encoded</th>\n",
       "    </tr>\n",
       "  </thead>\n",
       "  <tbody>\n",
       "    <tr>\n",
       "      <th>0</th>\n",
       "      <td>23354</td>\n",
       "      <td>2</td>\n",
       "      <td>[30, 40)</td>\n",
       "      <td>[500, 3000)</td>\n",
       "      <td>0</td>\n",
       "      <td>[2, 6)</td>\n",
       "      <td>0</td>\n",
       "      <td>[0, 60)</td>\n",
       "      <td>2</td>\n",
       "      <td>1</td>\n",
       "      <td>4</td>\n",
       "      <td>2</td>\n",
       "      <td>0</td>\n",
       "      <td>8</td>\n",
       "      <td>3</td>\n",
       "      <td>[-1, 0)</td>\n",
       "      <td>[0, 1)</td>\n",
       "      <td>1</td>\n",
       "      <td>27</td>\n",
       "      <td>1</td>\n",
       "      <td>0</td>\n",
       "    </tr>\n",
       "  </tbody>\n",
       "</table>\n",
       "</div>"
      ],
      "text/plain": [
       "      ID  cluster_predicted age_group balance_category  contact_label_encoded  \\\n",
       "0  23354  2                  [30, 40)  [500, 3000)      0                       \n",
       "\n",
       "  current_engagement_bins  default_label_encoded duration_bins  \\\n",
       "0  [2, 6)                  0                      [0, 60)        \n",
       "\n",
       "   education_label_encoded  housing_label_encoded  job_label_encoded  \\\n",
       "0  2                        1                      4                   \n",
       "\n",
       "   marital_label_encoded  loan_label_encoded  month_label_encoded  \\\n",
       "0  2                      0                   8                     \n",
       "\n",
       "   poutcome_label_encoded pdays_half_yearly_bins prev_engagement_category  \\\n",
       "0  3                       [-1, 0)                [0, 1)                    \n",
       "\n",
       "   is_second_half_of_month  day  new_customers  y_label_encoded  \n",
       "0  1                        27   1              0                "
      ]
     },
     "execution_count": 8,
     "metadata": {},
     "output_type": "execute_result"
    }
   ],
   "source": [
    "len(df_for_model_2)\n",
    "df_for_model_2.head(1)"
   ]
  },
  {
   "cell_type": "code",
   "execution_count": 9,
   "metadata": {},
   "outputs": [
    {
     "data": {
      "text/plain": [
       "0"
      ]
     },
     "execution_count": 9,
     "metadata": {},
     "output_type": "execute_result"
    }
   ],
   "source": [
    "df_for_model_2.duplicated().sum()"
   ]
  },
  {
   "cell_type": "code",
   "execution_count": 10,
   "metadata": {},
   "outputs": [],
   "source": [
    "with open('../data/processed/df_for_moadel_3.pkl', 'wb') as to_write: \n",
    "    pickle.dump(df_for_model_3, to_write)\n",
    "    "
   ]
  },
  {
   "cell_type": "code",
   "execution_count": null,
   "metadata": {},
   "outputs": [],
   "source": []
  }
 ],
 "metadata": {
  "kernelspec": {
   "display_name": "Python 3",
   "language": "python",
   "name": "python3"
  },
  "language_info": {
   "codemirror_mode": {
    "name": "ipython",
    "version": 3
   },
   "file_extension": ".py",
   "mimetype": "text/x-python",
   "name": "python",
   "nbconvert_exporter": "python",
   "pygments_lexer": "ipython3",
   "version": "3.6.9"
  }
 },
 "nbformat": 4,
 "nbformat_minor": 2
}
